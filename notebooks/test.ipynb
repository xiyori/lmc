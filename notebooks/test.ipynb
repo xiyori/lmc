{
 "cells": [
  {
   "cell_type": "code",
   "execution_count": 2,
   "id": "c624de11",
   "metadata": {},
   "outputs": [
    {
     "name": "stdout",
     "output_type": "stream",
     "text": [
      "Numpy version: 1.23.5\n"
     ]
    }
   ],
   "source": [
    "import os, sys, time\n",
    "import torch\n",
    "import torch.nn as nn\n",
    "import torchvision\n",
    "import numpy as np\n",
    "import matplotlib.pyplot as plt\n",
    "import seaborn as sns\n",
    "\n",
    "from torchvision import transforms\n",
    "\n",
    "plt.rcParams[\"font.size\"] = 12\n",
    "plt.rcParams[\"figure.figsize\"] = 6, 4\n",
    "\n",
    "sns.set(rc={\"figure.figsize\": (6, 4)})\n",
    "sns.set(style=\"darkgrid\")\n",
    "\n",
    "print(\"Numpy version:\", np.version.version)\n",
    "\n",
    "# Set working dir to project root\n",
    "while not os.getcwd().endswith(\"lmc\"):\n",
    "    os.chdir(os.pardir)"
   ]
  },
  {
   "cell_type": "code",
   "execution_count": 4,
   "id": "d3e9112c",
   "metadata": {},
   "outputs": [
    {
     "data": {
      "text/plain": [
       "[Parameter containing:\n",
       " tensor([[1., 0., 0., 0., 0.],\n",
       "         [0., 1., 0., 0., 0.],\n",
       "         [0., 0., 1., 0., 0.],\n",
       "         [0., 0., 0., 1., 0.],\n",
       "         [0., 0., 0., 0., 1.]], requires_grad=True),\n",
       " Parameter containing:\n",
       " tensor([[1., 0., 0., 0., 0., 0.],\n",
       "         [0., 1., 0., 0., 0., 0.],\n",
       "         [0., 0., 1., 0., 0., 0.],\n",
       "         [0., 0., 0., 1., 0., 0.],\n",
       "         [0., 0., 0., 0., 1., 0.],\n",
       "         [0., 0., 0., 0., 0., 1.]], requires_grad=True),\n",
       " Parameter containing:\n",
       " tensor([[1., 0., 0., 0., 0., 0., 0.],\n",
       "         [0., 1., 0., 0., 0., 0., 0.],\n",
       "         [0., 0., 1., 0., 0., 0., 0.],\n",
       "         [0., 0., 0., 1., 0., 0., 0.],\n",
       "         [0., 0., 0., 0., 1., 0., 0.],\n",
       "         [0., 0., 0., 0., 0., 1., 0.],\n",
       "         [0., 0., 0., 0., 0., 0., 1.]], requires_grad=True)]"
      ]
     },
     "execution_count": 4,
     "metadata": {},
     "output_type": "execute_result"
    }
   ],
   "source": [
    "from src.models import SinkhornRebasinModel\n",
    "\n",
    "rebasin_model = SinkhornRebasinModel(None, [5, 6, 7])\n",
    "list(rebasin_model.parameters())"
   ]
  },
  {
   "cell_type": "code",
   "execution_count": 5,
   "id": "616d0fee",
   "metadata": {},
   "outputs": [
    {
     "data": {
      "text/plain": [
       "OrderedDict([('permutations.0',\n",
       "              tensor([[1., 0., 0., 0., 0.],\n",
       "                      [0., 1., 0., 0., 0.],\n",
       "                      [0., 0., 1., 0., 0.],\n",
       "                      [0., 0., 0., 1., 0.],\n",
       "                      [0., 0., 0., 0., 1.]])),\n",
       "             ('permutations.1',\n",
       "              tensor([[1., 0., 0., 0., 0., 0.],\n",
       "                      [0., 1., 0., 0., 0., 0.],\n",
       "                      [0., 0., 1., 0., 0., 0.],\n",
       "                      [0., 0., 0., 1., 0., 0.],\n",
       "                      [0., 0., 0., 0., 1., 0.],\n",
       "                      [0., 0., 0., 0., 0., 1.]])),\n",
       "             ('permutations.2',\n",
       "              tensor([[1., 0., 0., 0., 0., 0., 0.],\n",
       "                      [0., 1., 0., 0., 0., 0., 0.],\n",
       "                      [0., 0., 1., 0., 0., 0., 0.],\n",
       "                      [0., 0., 0., 1., 0., 0., 0.],\n",
       "                      [0., 0., 0., 0., 1., 0., 0.],\n",
       "                      [0., 0., 0., 0., 0., 1., 0.],\n",
       "                      [0., 0., 0., 0., 0., 0., 1.]]))])"
      ]
     },
     "execution_count": 5,
     "metadata": {},
     "output_type": "execute_result"
    }
   ],
   "source": [
    "rebasin_model.state_dict()"
   ]
  }
 ],
 "metadata": {
  "kernelspec": {
   "display_name": "Python (ml)",
   "language": "python",
   "name": "ml"
  },
  "language_info": {
   "codemirror_mode": {
    "name": "ipython",
    "version": 3
   },
   "file_extension": ".py",
   "mimetype": "text/x-python",
   "name": "python",
   "nbconvert_exporter": "python",
   "pygments_lexer": "ipython3",
   "version": "3.9.15"
  }
 },
 "nbformat": 4,
 "nbformat_minor": 5
}
