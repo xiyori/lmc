{
 "cells": [
  {
   "cell_type": "code",
   "execution_count": 1,
   "metadata": {
    "colab": {
     "base_uri": "https://localhost:8080/"
    },
    "id": "G0dQArAzUdno",
    "outputId": "7bf4c29d-86d4-4b01-aded-4518c7a4eee4"
   },
   "outputs": [
    {
     "name": "stdout",
     "output_type": "stream",
     "text": [
      "Numpy version: 1.23.5\n"
     ]
    }
   ],
   "source": [
    "import os, sys, time\n",
    "import torch\n",
    "import torch.nn as nn\n",
    "import torchvision\n",
    "import numpy as np\n",
    "import pandas as pd\n",
    "import matplotlib.pyplot as plt\n",
    "import seaborn as sns\n",
    "\n",
    "from torchvision import transforms\n",
    "\n",
    "plt.rcParams[\"font.size\"] = 12\n",
    "plt.rcParams[\"figure.figsize\"] = 6, 4\n",
    "\n",
    "sns.set(rc={\"figure.figsize\": (6, 4)})\n",
    "# sns.set(style=\"darkgrid\")\n",
    "\n",
    "print(\"Numpy version:\", np.version.version)\n",
    "\n",
    "# Set working dir to project root\n",
    "while not os.getcwd().endswith(\"lmc\"):\n",
    "    os.chdir(os.pardir)"
   ]
  },
  {
   "cell_type": "code",
   "execution_count": 2,
   "metadata": {},
   "outputs": [],
   "source": [
    "%load_ext autoreload\n",
    "%autoreload 2"
   ]
  },
  {
   "cell_type": "code",
   "execution_count": 3,
   "metadata": {},
   "outputs": [],
   "source": [
    "import random\n",
    "\n",
    "def set_random_seed(seed):\n",
    "    torch.backends.cudnn.deterministic = True\n",
    "    torch.manual_seed(seed)\n",
    "    torch.cuda.manual_seed(seed)\n",
    "    np.random.seed(seed)\n",
    "    random.seed(seed)"
   ]
  },
  {
   "cell_type": "markdown",
   "metadata": {},
   "source": [
    "## Training / testing loops"
   ]
  },
  {
   "cell_type": "code",
   "execution_count": 4,
   "metadata": {},
   "outputs": [],
   "source": [
    "from IPython.display import clear_output\n",
    "from typing import Sequence\n",
    "\n",
    "from src.modules import Indexer, IndexedModel\n",
    "\n",
    "def train_epoch(model, optimizer, scheduler = None):\n",
    "    loss_log, acc_log = [], []\n",
    "    model.train()\n",
    "    for x_batch, y_batch in trainloader:\n",
    "        data = x_batch.to(device)\n",
    "        target = y_batch.to(device)\n",
    "\n",
    "        optimizer.zero_grad()\n",
    "        output = model(data)\n",
    "        \n",
    "        loss = criterion_train(output, target)\n",
    "        loss.backward()\n",
    "        optimizer.step()\n",
    "        if scheduler is not None:\n",
    "            scheduler.step()\n",
    "        \n",
    "        with torch.no_grad():\n",
    "            pred = torch.max(output, 1)[1]\n",
    "    #         target = torch.max(target, 1)[1]\n",
    "            acc = (pred == target).cpu().numpy().mean()\n",
    "            acc_log.append(acc)\n",
    "        \n",
    "        loss = loss.item()\n",
    "        loss_log.append(loss)\n",
    "    return loss_log, acc_log\n",
    "\n",
    "def test(model, dataloader):\n",
    "    loss_log, acc_log = [], []\n",
    "    model.eval()\n",
    "    with torch.no_grad():\n",
    "        for x_batch, y_batch in dataloader:\n",
    "            data = x_batch.to(device)\n",
    "            target = y_batch.to(device)\n",
    "\n",
    "            output = model(data)\n",
    "            loss = criterion_test(output, target)\n",
    "\n",
    "            pred = torch.max(output, 1)[1].cpu().numpy()\n",
    "            acc = np.mean(pred == target.cpu().numpy())\n",
    "            acc_log.append(acc)\n",
    "\n",
    "            loss = loss.item()\n",
    "            loss_log.append(loss)\n",
    "    return np.mean(loss_log), np.mean(acc_log)\n",
    "\n",
    "def plot_history(train_history, val_history, title=\"loss\"):\n",
    "    plt.figure()\n",
    "    plt.title(\"{}\".format(title))\n",
    "    plt.plot(train_history, label=\"train\", zorder=1)\n",
    "    \n",
    "    points = np.array(val_history)\n",
    "    \n",
    "    plt.scatter(points[:, 0], points[:, 1], marker=\"+\", s=180, c=\"orange\", label=\"val\", zorder=2)\n",
    "    plt.xlabel(\"train steps\")\n",
    "    \n",
    "    plt.legend(loc=\"best\")\n",
    "    plt.grid()\n",
    "\n",
    "    plt.show()\n",
    "    \n",
    "def train(n_epochs, model, opt, scheduler = None):\n",
    "    train_log, train_acc_log = [], []\n",
    "    val_log, val_acc_log = [], []\n",
    "\n",
    "    for epoch in range(n_epochs):\n",
    "        print(\"Epoch {} of {}\".format(epoch, n_epochs))\n",
    "        train_loss, train_acc = train_epoch(model, opt, scheduler)\n",
    "\n",
    "        val_loss, val_acc = test(model, validloader)\n",
    "\n",
    "        train_log.extend(train_loss)\n",
    "        train_acc_log.extend(train_acc)\n",
    "\n",
    "        steps = len(trainset) / batch_size\n",
    "        val_log.append((steps * (epoch + 1), val_loss))\n",
    "        val_acc_log.append((steps * (epoch + 1), val_acc))\n",
    "\n",
    "        clear_output()\n",
    "        plot_history(train_log, val_log)    \n",
    "        plot_history(train_acc_log, val_acc_log, title=\"accuracy\")\n",
    "        print(\"Epoch {} valid accuracy = {:.2%}\".format(epoch, val_acc_log[-1][1]))\n",
    "            \n",
    "    evaluate(model)\n",
    "\n",
    "def evaluate(model):\n",
    "    print(\"Accuracy: {:.2%}\".format(test(model, testloader)[1]))\n",
    "\n",
    "def collect_statistics(models: Sequence[IndexedModel], full: bool = False):\n",
    "    if full:\n",
    "        untracked_keys = set()\n",
    "        for model in models:\n",
    "            for key, module in model.modules.items():\n",
    "                if not module.track_activations:\n",
    "                    untracked_keys.add(key)\n",
    "                    module.track_activations = True\n",
    "    \n",
    "    for model in models:\n",
    "        model.eval()\n",
    "        model.reset_statistics()\n",
    "        model.start_tracking()\n",
    "    with torch.no_grad():\n",
    "        for x_batch, _ in activation_loader:\n",
    "            data = x_batch.to(device)\n",
    "            for model in models:\n",
    "                model(data)\n",
    "    \n",
    "    for model in models:\n",
    "        model.stop_tracking()\n",
    "    \n",
    "    if full:\n",
    "        for key in untracked_keys:\n",
    "            for model in models:\n",
    "                model[key].track_activations = False"
   ]
  },
  {
   "cell_type": "markdown",
   "metadata": {},
   "source": [
    "## Models"
   ]
  },
  {
   "cell_type": "code",
   "execution_count": 5,
   "metadata": {},
   "outputs": [],
   "source": [
    "from src.models import MLPModel, mlp_permutation_spec"
   ]
  },
  {
   "cell_type": "markdown",
   "metadata": {},
   "source": [
    "## Permutation methods"
   ]
  },
  {
   "cell_type": "markdown",
   "metadata": {},
   "source": [
    "### Permutation utils"
   ]
  },
  {
   "cell_type": "code",
   "execution_count": 6,
   "metadata": {},
   "outputs": [],
   "source": [
    "from src.utils import interpolate, normalize_model\n",
    "from src.permutation_specs import PermutationSpec, get_permuted_param, \\\n",
    "    apply_permutation, apply_permutation_stats"
   ]
  },
  {
   "cell_type": "markdown",
   "metadata": {},
   "source": [
    "### Activation matching"
   ]
  },
  {
   "cell_type": "code",
   "execution_count": 7,
   "metadata": {},
   "outputs": [],
   "source": [
    "from scipy.optimize import linear_sum_assignment\n",
    "\n",
    "def covariance(module0: Indexer, module1: Indexer):\n",
    "    outer = 0\n",
    "    for a0, a1 in zip(module0.activations, module1.activations):\n",
    "        outer = outer + (a1.T @ a0) / a0.shape[0]\n",
    "    outer /= module0.num_runs\n",
    "    cov = outer - torch.outer(module1.mean, module0.mean)\n",
    "    return cov\n",
    "\n",
    "def match_activations(model0: IndexedModel, model1: IndexedModel,\n",
    "                      permutation_spec: PermutationSpec,\n",
    "                      eps: float = 1e-4):\n",
    "    device = model0[permutation_spec.perm2axes[0][0].key].device\n",
    "    permutations = []\n",
    "    for module0, module1 in zip(model0.modules.values(), model1.modules.values()):\n",
    "        if not module0.track_activations:\n",
    "            continue\n",
    "        \n",
    "        cov = covariance(module0, module1)\n",
    "        corr = cov / (torch.outer(module1.std, module0.std) + eps)\n",
    "        \n",
    "        row_ind, col_ind = linear_sum_assignment(corr.numpy(), maximize=True)\n",
    "        assert (row_ind == np.arange(corr.shape[0])).all()\n",
    "        permutations.append(torch.tensor(col_ind, dtype=torch.long, device=device))\n",
    "        \n",
    "#         plt.imshow(corr)\n",
    "#         plt.grid()\n",
    "#         plt.show()\n",
    "#         non_diag = corr[~np.diag(np.ones(corr.shape[0], dtype=bool))]\n",
    "#         print(non_diag.max(), non_diag.mean())\n",
    "#         assert (col_ind == np.arange(corr.shape[0])).all()\n",
    "        \n",
    "    apply_permutation(model0, permutation_spec, permutations)\n",
    "    apply_permutation_stats(model0, permutation_spec, permutations)"
   ]
  },
  {
   "cell_type": "markdown",
   "metadata": {},
   "source": [
    "### Weight matching"
   ]
  },
  {
   "cell_type": "code",
   "execution_count": 8,
   "metadata": {},
   "outputs": [],
   "source": [
    "def match_weights(model0: IndexedModel, model1: IndexedModel,\n",
    "                  permutation_spec: PermutationSpec, normalize: bool = False,\n",
    "                  max_iter: int = 100, eps: float = 1e-12,\n",
    "                  seed: int = 42):\n",
    "    if seed is not None:\n",
    "        set_random_seed(seed)\n",
    "    \n",
    "    orig_model0 = model0\n",
    "    if normalize:\n",
    "        model0 = normalize_model(model0)\n",
    "        model1 = normalize_model(model1)\n",
    "\n",
    "    device = model0[permutation_spec.perm2axes[0][0].key].device\n",
    "    perm_sizes = [model0[axes[0].key].shape[axes[0].axis]\n",
    "                  for axes in permutation_spec.perm2axes]\n",
    "    permutations = [torch.arange(size, dtype=torch.long, device=device)\n",
    "                    for size in perm_sizes]\n",
    "    for iteration in range(max_iter):\n",
    "        progress = False\n",
    "        for p in np.random.choice(len(permutations), len(permutations), replace=False):\n",
    "            size = perm_sizes[p]\n",
    "            A = torch.zeros((size, size), device=device)\n",
    "            for key, axis in permutation_spec.perm2axes[p]:\n",
    "                if not model0[key.split(\".\")[0]].match_weights:\n",
    "                    continue\n",
    "\n",
    "                w1 = model1[key].detach()\n",
    "                w0 = get_permuted_param(model0, permutation_spec, permutations,\n",
    "                                        key, except_axis=axis)\n",
    "                w1 = torch.movedim(w1, axis, 0).reshape(size, -1)\n",
    "                w0 = torch.movedim(w0, axis, 0).reshape(size, -1)\n",
    "                A += w1 @ w0.T\n",
    "\n",
    "            row_ind, col_ind = linear_sum_assignment(A.cpu().numpy(), maximize=True)\n",
    "            assert (row_ind == np.arange(A.shape[0])).all()\n",
    "            new_permutation = torch.tensor(col_ind, dtype=torch.long, device=device)\n",
    "\n",
    "            oldL = torch.diag(A[permutations[p]]).sum()\n",
    "            newL = torch.diag(A[new_permutation]).sum()\n",
    "            progress = progress or torch.abs(newL - oldL) > eps\n",
    "\n",
    "            permutations[p] = new_permutation\n",
    "\n",
    "        if not progress:\n",
    "            break\n",
    "    \n",
    "    apply_permutation(orig_model0, permutation_spec, permutations)"
   ]
  },
  {
   "cell_type": "markdown",
   "metadata": {},
   "source": [
    "### Sinkhorn WM (L2)"
   ]
  },
  {
   "cell_type": "code",
   "execution_count": 9,
   "metadata": {},
   "outputs": [],
   "source": [
    "from src.models import SinkhornRebasinModel\n",
    "from src.loss import DistLoss\n",
    "\n",
    "def match_weights_sinkhorn(model0: IndexedModel, model1: IndexedModel,\n",
    "                           permutation_spec: PermutationSpec, normalize: bool = False,\n",
    "                           max_iter: int = 50, sinkhorn_iter: int = 20,\n",
    "                           sinkhorn_tau: float = 1.0, seed: int = 42):\n",
    "    orig_model0 = model0\n",
    "    if normalize:\n",
    "        model0 = normalize_model(model0)\n",
    "        model1 = normalize_model(model1)\n",
    "\n",
    "    model0.requires_grad(False)\n",
    "    model1.requires_grad(False)\n",
    "    device = model0[permutation_spec.perm2axes[0][0].key].device\n",
    "    perm_sizes = [model0[axes[0].key].shape[axes[0].axis]\n",
    "                  for axes in permutation_spec.perm2axes]\n",
    "    \n",
    "#     random_perms = [torch.tensor(np.random.choice(size, size, replace=False),\n",
    "#                                  dtype=torch.long, device=device)\n",
    "#                     for size in perm_sizes]\n",
    "#     model1 = apply_permutation(model0, permutation_spec, random_perms, preserve_grad=True)\n",
    "#     model1.requires_grad(False)\n",
    "    \n",
    "    rebasin_model = SinkhornRebasinModel(permutation_spec, perm_sizes,\n",
    "                                         sinkhorn_iter, sinkhorn_tau)\n",
    "    rebasin_model.to(device)\n",
    "    criterion = DistLoss(permutation_spec)\n",
    "    optimizer = torch.optim.AdamW(rebasin_model.parameters(), lr=0.1)\n",
    "    \n",
    "    for iteration in range(max_iter):\n",
    "        # Training\n",
    "        rebasin_model.train()  # This uses soft permutation matrices\n",
    "\n",
    "        optimizer.zero_grad()\n",
    "        \n",
    "        permuted_model0 = rebasin_model(model0)\n",
    "        train_loss = criterion(permuted_model0, model1)\n",
    "        train_loss.backward()\n",
    "        optimizer.step()  # Only updates the permutation matrices\n",
    "        del permuted_model0\n",
    "\n",
    "        # Validation\n",
    "        rebasin_model.eval()  # This uses hard permutation matrices\n",
    "        \n",
    "        with torch.no_grad():\n",
    "            permuted_model0 = rebasin_model(model0)\n",
    "            valid_loss = criterion(permuted_model0, model1)\n",
    "            del permuted_model0\n",
    "            \n",
    "        print(\n",
    "            \"Iteration {:02d}: training loss {:1.3f}, validation loss {:1.3f}\".format(\n",
    "                iteration, train_loss, valid_loss\n",
    "            )\n",
    "        )\n",
    "        if valid_loss == 0:\n",
    "            break\n",
    "    \n",
    "    permutations = rebasin_model.estimate_permutations()\n",
    "    apply_permutation(orig_model0, permutation_spec, permutations)"
   ]
  },
  {
   "cell_type": "markdown",
   "metadata": {},
   "source": [
    "### Sinkhorn direct (Mid, Rnd)"
   ]
  },
  {
   "cell_type": "code",
   "execution_count": 10,
   "metadata": {},
   "outputs": [],
   "source": [
    "def sinkhorn_direct(model0: IndexedModel, model1: IndexedModel,\n",
    "                    permutation_spec: PermutationSpec,\n",
    "                    mode: str = \"random\", repair: str = \"none\",\n",
    "                    max_iter: int = 20, sinkhorn_iter: int = 20,\n",
    "                    sinkhorn_tau: float = 1.0, seed: int = 42):\n",
    "    if seed is not None:\n",
    "        set_random_seed(seed)\n",
    "\n",
    "    model0.requires_grad(False)\n",
    "    model1.requires_grad(False)\n",
    "    model0.eval()\n",
    "    model1.eval()\n",
    "    device = model0[permutation_spec.perm2axes[0][0].key].device\n",
    "    perm_sizes = [model0[axes[0].key].shape[axes[0].axis]\n",
    "                  for axes in permutation_spec.perm2axes]\n",
    "    \n",
    "    rebasin_model = SinkhornRebasinModel(permutation_spec, perm_sizes,\n",
    "                                         sinkhorn_iter, sinkhorn_tau,\n",
    "                                         init=\"random\")\n",
    "    rebasin_model.to(device)\n",
    "    optimizer = torch.optim.AdamW(rebasin_model.parameters(), lr=0.1)\n",
    "    \n",
    "    for iteration in range(max_iter):\n",
    "        # Training\n",
    "        rebasin_model.train()  # This uses soft permutation matrices\n",
    "        train_loss = 0\n",
    "        for x_batch, y_batch in trainloader:\n",
    "            data = x_batch.to(device)\n",
    "            target = y_batch.to(device)\n",
    "\n",
    "            optimizer.zero_grad()\n",
    "            permuted_model0 = rebasin_model(model0)\n",
    "            if mode == \"random\":\n",
    "                alpha = np.random.rand()\n",
    "            else:\n",
    "                alpha = 0.5\n",
    "            interpolated = interpolate(permuted_model0, model1, alpha, copy=False)\n",
    "            \n",
    "            if repair == \"closed\":\n",
    "                repair_closed(permuted_model0, model1, interpolated, alpha)\n",
    "            elif repair == \"trainmode\":\n",
    "                repair_trainmode(interpolated)\n",
    "            elif repair == \"sphere\":\n",
    "                repair_sphere(permuted_model0, model1, interpolated, alpha)\n",
    "            \n",
    "            output = interpolated(data)\n",
    "\n",
    "            loss = criterion_train(output, target)\n",
    "            loss.backward()\n",
    "            optimizer.step()\n",
    "            \n",
    "            train_loss += loss.item()\n",
    "            del permuted_model0\n",
    "        train_loss /= len(trainloader)\n",
    "\n",
    "        # Validation\n",
    "        rebasin_model.eval()  # This uses hard permutation matrices\n",
    "        with torch.no_grad():\n",
    "            permuted_model0 = rebasin_model(model0)\n",
    "            interpolated = interpolate(permuted_model0, model1, alpha, copy=False)\n",
    "            \n",
    "            if repair == \"closed\":\n",
    "                repair_closed(permuted_model0, model1, interpolated, alpha)\n",
    "            elif repair == \"trainmode\":\n",
    "                repair_trainmode(interpolated)\n",
    "            elif repair == \"sphere\":\n",
    "                repair_sphere(permuted_model0, model1, interpolated, alpha)\n",
    "        valid_loss = test(interpolated, validloader)[0]\n",
    "        del permuted_model0\n",
    "        \n",
    "        print(\n",
    "            \"Iteration {:02d}: training loss {:1.3f}, validation loss {:1.3f}\".format(\n",
    "                iteration, train_loss, valid_loss\n",
    "            )\n",
    "        )\n",
    "        if valid_loss == 0:\n",
    "            break\n",
    "    \n",
    "    permutations = rebasin_model.estimate_permutations()\n",
    "    apply_permutation(model0, permutation_spec, permutations)"
   ]
  },
  {
   "cell_type": "markdown",
   "metadata": {},
   "source": [
    "### REPAIR"
   ]
  },
  {
   "cell_type": "code",
   "execution_count": 11,
   "metadata": {},
   "outputs": [],
   "source": [
    "def repair_closed(model0: IndexedModel, model1: IndexedModel,\n",
    "                  interpolated: IndexedModel, alpha: float = 0.5):\n",
    "    for module0, module1, module_i in zip(model0.modules.values(),\n",
    "                                          model1.modules.values(),\n",
    "                                          interpolated.modules.values()):\n",
    "        cov = covariance(module0, module1)\n",
    "        rescale = ((1 - alpha) * module0.std + alpha * module1.std) / \\\n",
    "                  ((1 - alpha) ** 2 * module0.var + alpha ** 2 * module1.var +\n",
    "                   2 * alpha * (1 - alpha) * torch.diag(cov)) ** (1 / 2)\n",
    "        rescale = rescale.to(module_i.operator.weight.device)\n",
    "        \n",
    "        weight = module_i.operator.weight.detach()\n",
    "        bias = module_i.operator.bias.detach()\n",
    "        module_i.operator.weight.data = weight * rescale.view(-1, *([1] * (weight.dim() - 1)))\n",
    "        module_i.operator.bias.data = bias * rescale\n",
    "\n",
    "def repair_trainmode(interpolated: IndexedModel):\n",
    "    for module in interpolated.modules.values():\n",
    "        if \"norm\" in module.operator.__class__.__name__.lower():\n",
    "            module.operator.running_mean = None\n",
    "            module.operator.running_var = None\n",
    "\n",
    "def repair_sphere(model0: IndexedModel, model1: IndexedModel,\n",
    "                  interpolated: IndexedModel, alpha: float = 0.5):\n",
    "    repair_trainmode(interpolated)\n",
    "    for module0, module1, module_i in zip(model0.modules.values(),\n",
    "                                             model1.modules.values(),\n",
    "                                             interpolated.modules.values()):\n",
    "        dims_to_norm = list(range(1, module0.operator.weight.dim()))\n",
    "        norm0 = simple_norm(module0.operator.weight.detach(), dim=dims_to_norm, keepdim=True)\n",
    "        norm1 = simple_norm(module1.operator.weight.detach(), dim=dims_to_norm, keepdim=True)\n",
    "        norm = (1 - alpha) * norm0 + alpha * norm1\n",
    "        rescale = norm / simple_norm(module_i.operator.weight.detach(), dim=dims_to_norm, keepdim=True)\n",
    "        \n",
    "        weight = module_i.operator.weight.detach()\n",
    "        bias = module_i.operator.bias.detach()\n",
    "        module_i.operator.weight.data = weight * rescale\n",
    "        module_i.operator.bias.data = bias * rescale.squeeze()"
   ]
  },
  {
   "cell_type": "markdown",
   "metadata": {},
   "source": [
    "## Train two models"
   ]
  },
  {
   "cell_type": "code",
   "execution_count": 12,
   "metadata": {},
   "outputs": [],
   "source": [
    "checkpoint_dir = \"resources/checkpoints\"\n",
    "os.makedirs(checkpoint_dir, exist_ok=True)\n",
    "\n",
    "data_dir = \"/home/sergej/data\"\n",
    "os.makedirs(data_dir, exist_ok=True)"
   ]
  },
  {
   "cell_type": "markdown",
   "metadata": {},
   "source": [
    "### MNIST"
   ]
  },
  {
   "cell_type": "code",
   "execution_count": 13,
   "metadata": {},
   "outputs": [],
   "source": [
    "from src.dataset import load_mnist, MNISTDataloader\n",
    "\n",
    "batch_size = 32\n",
    "\n",
    "X_train, y_train, X_val, y_val, X_test, y_test = load_mnist(data_dir + \"/MNIST/raw\", flatten=True, valid_size=0)\n",
    "trainset = X_train\n",
    "\n",
    "trainloader = MNISTDataloader(X_train, y_train, batch_size, shuffle=True)\n",
    "activation_loader = MNISTDataloader(X_train, y_train, batch_size, shuffle=False)\n",
    "validloader = MNISTDataloader(X_test, y_test, batch_size, shuffle=False)\n",
    "testloader = MNISTDataloader(X_test, y_test, batch_size, shuffle=False)\n",
    "\n",
    "criterion_train = nn.CrossEntropyLoss()\n",
    "criterion_test = nn.CrossEntropyLoss()\n",
    "\n",
    "device = \"cpu\""
   ]
  },
  {
   "cell_type": "code",
   "execution_count": 14,
   "metadata": {},
   "outputs": [],
   "source": [
    "from dataclasses import dataclass\n",
    "\n",
    "@dataclass\n",
    "class MNISTMLPConfig:\n",
    "    num_layers = 3\n",
    "    input_size = 28 * 28\n",
    "    output_size = 10\n",
    "    hidden_size = 512\n",
    "    matching_mode = \"post_activation\"\n",
    "\n",
    "config = MNISTMLPConfig()"
   ]
  },
  {
   "cell_type": "code",
   "execution_count": 15,
   "metadata": {
    "scrolled": true
   },
   "outputs": [
    {
     "data": {
      "image/png": "[encoded data removed]",
      "text/plain": [
       "<Figure size 600x400 with 1 Axes>"
      ]
     },
     "metadata": {},
     "output_type": "display_data"
    },
    {
     "data": {
      "image/png": "[encoded data removed]",
      "text/plain": [
       "<Figure size 600x400 with 1 Axes>"
      ]
     },
     "metadata": {},
     "output_type": "display_data"
    },
    {
     "name": "stdout",
     "output_type": "stream",
     "text": [
      "Epoch 19 valid accuracy = 98.75%\n",
      "Accuracy: 98.75%\n"
     ]
    }
   ],
   "source": [
    "set_random_seed(42)\n",
    "\n",
    "lr = 1e-2\n",
    "num_epochs = 20\n",
    "\n",
    "model0 = MLPModel(config)\n",
    "model0.to(device)\n",
    "optim = torch.optim.SGD(model0.parameters(), lr=lr, momentum=0.9, weight_decay=5e-4)\n",
    "scheduler = torch.optim.lr_scheduler.OneCycleLR(optim, **{\n",
    "    \"steps_per_epoch\": len(trainloader),\n",
    "    \"epochs\": num_epochs,\n",
    "    \"anneal_strategy\": \"cos\",\n",
    "    \"max_lr\": lr,\n",
    "    \"pct_start\": 0.1\n",
    "})\n",
    "\n",
    "train(num_epochs, model0, optim, scheduler)\n",
    "torch.save(model0.state_dict(), checkpoint_dir + \"/mnist_mlp0.pth\")"
   ]
  },
  {
   "cell_type": "code",
   "execution_count": 16,
   "metadata": {
    "scrolled": true
   },
   "outputs": [
    {
     "data": {
      "image/png": "[encoded data removed]",
      "text/plain": [
       "<Figure size 600x400 with 1 Axes>"
      ]
     },
     "metadata": {},
     "output_type": "display_data"
    },
    {
     "data": {
      "image/png": "[encoded data removed]",
      "text/plain": [
       "<Figure size 600x400 with 1 Axes>"
      ]
     },
     "metadata": {},
     "output_type": "display_data"
    },
    {
     "name": "stdout",
     "output_type": "stream",
     "text": [
      "Epoch 19 valid accuracy = 98.68%\n",
      "Accuracy: 98.68%\n"
     ]
    }
   ],
   "source": [
    "set_random_seed(92)\n",
    "\n",
    "lr = 1e-2\n",
    "num_epochs = 20\n",
    "\n",
    "model1 = MLPModel(config)\n",
    "model1.to(device)\n",
    "optim = torch.optim.SGD(model1.parameters(), lr=lr, momentum=0.9, weight_decay=5e-4)\n",
    "scheduler = torch.optim.lr_scheduler.OneCycleLR(optim, **{\n",
    "    \"steps_per_epoch\": len(trainloader),\n",
    "    \"epochs\": num_epochs,\n",
    "    \"anneal_strategy\": \"cos\",\n",
    "    \"max_lr\": lr,\n",
    "    \"pct_start\": 0.1\n",
    "})\n",
    "\n",
    "train(num_epochs, model1, optim, scheduler)\n",
    "torch.save(model1.state_dict(), checkpoint_dir + \"/mnist_mlp1.pth\")"
   ]
  },
  {
   "cell_type": "markdown",
   "metadata": {},
   "source": [
    "## Permute the weights of model 0 to align with model 1"
   ]
  },
  {
   "cell_type": "code",
   "execution_count": 15,
   "metadata": {},
   "outputs": [],
   "source": [
    "from tqdm.auto import tqdm\n",
    "\n",
    "def get_interpolation(model0, model1, alphas = np.linspace(0, 1, 25),\n",
    "                      repair = \"none\", loader = None):\n",
    "    if loader is None:\n",
    "        loader = testloader\n",
    "    \n",
    "    accuracies = []\n",
    "    losses = []\n",
    "    for alpha in tqdm(alphas, desc=\"Interpolate\"):\n",
    "        interpolated = interpolate(model0, model1, alpha)\n",
    "        if repair == \"closed\":\n",
    "            repair_closed(model0, model1, interpolated, alpha)\n",
    "        elif repair == \"trainmode\":\n",
    "            repair_trainmode(interpolated)\n",
    "        elif repair == \"sphere\":\n",
    "            repair_sphere(model0, model1, interpolated, alpha)\n",
    "        loss, accuracy = test(interpolated, loader)\n",
    "        accuracies += [accuracy]\n",
    "        losses += [loss]\n",
    "        \n",
    "        del interpolated\n",
    "\n",
    "    return accuracies, losses, alphas\n",
    "\n",
    "def get_variance(model):\n",
    "    return np.array([\n",
    "        module.var.mean().item() for module in model.modules.values()\n",
    "    ], dtype=float)\n",
    "\n",
    "def reload_models():\n",
    "    global model0, model1\n",
    "    \n",
    "    model0 = MLPModel(config)\n",
    "    model0.load_state_dict(torch.load(checkpoint_dir + f\"/{dataset_name}_{model_type}0.pth\"))\n",
    "    model1 = MLPModel(config)\n",
    "    model1.load_state_dict(torch.load(checkpoint_dir + f\"/{dataset_name}_{model_type}1.pth\"))\n",
    "\n",
    "    model0.to(device)\n",
    "    model1.to(device)"
   ]
  },
  {
   "cell_type": "markdown",
   "metadata": {},
   "source": [
    "### MNIST"
   ]
  },
  {
   "cell_type": "markdown",
   "metadata": {},
   "source": [
    "### MLP"
   ]
  },
  {
   "cell_type": "code",
   "execution_count": 16,
   "metadata": {},
   "outputs": [],
   "source": [
    "config = MNISTMLPConfig()\n",
    "perm_spec = mlp_permutation_spec(config)\n",
    "dataset_name = \"mnist\"\n",
    "model_type = \"mlp\"\n",
    "save_name = \"mnist_mlp\""
   ]
  },
  {
   "cell_type": "code",
   "execution_count": 17,
   "metadata": {
    "scrolled": true
   },
   "outputs": [
    {
     "data": {
      "application/vnd.jupyter.widget-view+json": {
       "model_id": "849a1b6a2ab4488d8bdc9431f3633f2b",
       "version_major": 2,
       "version_minor": 0
      },
      "text/plain": [
       "Interpolate:   0%|          | 0/25 [00:00<?, ?it/s]"
      ]
     },
     "metadata": {},
     "output_type": "display_data"
    },
    {
     "data": {
      "application/vnd.jupyter.widget-view+json": {
       "model_id": "0b074a4c1432456488d97c6614dac19c",
       "version_major": 2,
       "version_minor": 0
      },
      "text/plain": [
       "Interpolate:   0%|          | 0/25 [00:00<?, ?it/s]"
      ]
     },
     "metadata": {},
     "output_type": "display_data"
    },
    {
     "data": {
      "application/vnd.jupyter.widget-view+json": {
       "model_id": "9c9927fd7cbe40ffa2ac55ae849121ac",
       "version_major": 2,
       "version_minor": 0
      },
      "text/plain": [
       "Interpolate:   0%|          | 0/25 [00:00<?, ?it/s]"
      ]
     },
     "metadata": {},
     "output_type": "display_data"
    },
    {
     "data": {
      "application/vnd.jupyter.widget-view+json": {
       "model_id": "9635c3a2b9f44200bbabc7f0e7500571",
       "version_major": 2,
       "version_minor": 0
      },
      "text/plain": [
       "Interpolate:   0%|          | 0/25 [00:00<?, ?it/s]"
      ]
     },
     "metadata": {},
     "output_type": "display_data"
    },
    {
     "name": "stdout",
     "output_type": "stream",
     "text": [
      "Iteration 00: training loss 0.019, validation loss 0.026\n",
      "Iteration 01: training loss 0.019, validation loss 0.026\n",
      "Iteration 02: training loss 0.019, validation loss 0.026\n",
      "Iteration 03: training loss 0.018, validation loss 0.026\n",
      "Iteration 04: training loss 0.018, validation loss 0.026\n",
      "Iteration 05: training loss 0.018, validation loss 0.025\n",
      "Iteration 06: training loss 0.018, validation loss 0.022\n",
      "Iteration 07: training loss 0.017, validation loss 0.021\n",
      "Iteration 08: training loss 0.017, validation loss 0.020\n",
      "Iteration 09: training loss 0.017, validation loss 0.020\n",
      "Iteration 10: training loss 0.017, validation loss 0.020\n",
      "Iteration 11: training loss 0.016, validation loss 0.019\n",
      "Iteration 12: training loss 0.016, validation loss 0.019\n",
      "Iteration 13: training loss 0.016, validation loss 0.018\n",
      "Iteration 14: training loss 0.016, validation loss 0.018\n",
      "Iteration 15: training loss 0.015, validation loss 0.018\n",
      "Iteration 16: training loss 0.015, validation loss 0.018\n",
      "Iteration 17: training loss 0.015, validation loss 0.017\n",
      "Iteration 18: training loss 0.015, validation loss 0.017\n",
      "Iteration 19: training loss 0.014, validation loss 0.017\n",
      "Iteration 20: training loss 0.014, validation loss 0.017\n",
      "Iteration 21: training loss 0.014, validation loss 0.017\n",
      "Iteration 22: training loss 0.014, validation loss 0.016\n",
      "Iteration 23: training loss 0.014, validation loss 0.016\n",
      "Iteration 24: training loss 0.014, validation loss 0.016\n",
      "Iteration 25: training loss 0.013, validation loss 0.016\n",
      "Iteration 26: training loss 0.013, validation loss 0.016\n",
      "Iteration 27: training loss 0.013, validation loss 0.016\n",
      "Iteration 28: training loss 0.013, validation loss 0.015\n",
      "Iteration 29: training loss 0.013, validation loss 0.015\n",
      "Iteration 30: training loss 0.012, validation loss 0.015\n",
      "Iteration 31: training loss 0.012, validation loss 0.015\n",
      "Iteration 32: training loss 0.012, validation loss 0.015\n",
      "Iteration 33: training loss 0.012, validation loss 0.015\n",
      "Iteration 34: training loss 0.012, validation loss 0.015\n",
      "Iteration 35: training loss 0.012, validation loss 0.015\n",
      "Iteration 36: training loss 0.012, validation loss 0.015\n",
      "Iteration 37: training loss 0.011, validation loss 0.015\n",
      "Iteration 38: training loss 0.011, validation loss 0.015\n",
      "Iteration 39: training loss 0.011, validation loss 0.015\n",
      "Iteration 40: training loss 0.011, validation loss 0.015\n",
      "Iteration 41: training loss 0.011, validation loss 0.014\n",
      "Iteration 42: training loss 0.011, validation loss 0.014\n",
      "Iteration 43: training loss 0.011, validation loss 0.014\n",
      "Iteration 44: training loss 0.010, validation loss 0.014\n",
      "Iteration 45: training loss 0.010, validation loss 0.014\n",
      "Iteration 46: training loss 0.010, validation loss 0.014\n",
      "Iteration 47: training loss 0.010, validation loss 0.014\n",
      "Iteration 48: training loss 0.010, validation loss 0.014\n",
      "Iteration 49: training loss 0.010, validation loss 0.014\n"
     ]
    },
    {
     "data": {
      "application/vnd.jupyter.widget-view+json": {
       "model_id": "625828bff10541e4b0376556c1b079af",
       "version_major": 2,
       "version_minor": 0
      },
      "text/plain": [
       "Interpolate:   0%|          | 0/25 [00:00<?, ?it/s]"
      ]
     },
     "metadata": {},
     "output_type": "display_data"
    }
   ],
   "source": [
    "reload_models()\n",
    "accs, losses, alphas = get_interpolation(model0, model1)\n",
    "accs_tr, losses_tr, _ = get_interpolation(model0, model1, repair=\"trainmode\")\n",
    "# accs_sph, losses_sph, _ = get_interpolation(model0, model1, repair=\"sphere\")\n",
    "# collect_statistics([model0, model1], full=True)\n",
    "# accs_rep, losses_rep, _ = get_interpolation(model0, model1, repair=\"closed\")\n",
    "\n",
    "del model0\n",
    "del model1\n",
    "\n",
    "reload_models()\n",
    "collect_statistics([model0, model1], full=True)\n",
    "match_activations(model0, model1, perm_spec)\n",
    "# post_act_accs, post_act_losses, _ = get_interpolation(model0, model1)\n",
    "post_act_tr_accs, post_act_tr_losses, _ = get_interpolation(model0, model1, repair=\"trainmode\")\n",
    "# post_act_sph_accs, post_act_sph_losses, _ = get_interpolation(model0, model1, repair=\"sphere\")\n",
    "# post_act_rep_accs, post_act_rep_losses, _ = get_interpolation(model0, model1, repair=\"closed\")\n",
    "\n",
    "del model0\n",
    "del model1\n",
    "\n",
    "reload_models()\n",
    "match_weights(model0, model1, perm_spec, normalize=False)\n",
    "# weight_accs, weight_losses, _ = get_interpolation(model0, model1)\n",
    "weight_tr_accs, weight_tr_losses, _ = get_interpolation(model0, model1, repair=\"trainmode\")\n",
    "# weight_sph_accs, weight_sph_losses, _ = get_interpolation(model0, model1, repair=\"sphere\")\n",
    "# collect_statistics([model0, model1], full=True)\n",
    "# weight_rep_accs, weight_rep_losses, _ = get_interpolation(model0, model1, repair=\"closed\")\n",
    "\n",
    "del model0\n",
    "del model1\n",
    "\n",
    "# reload_models()\n",
    "# match_weights(model0, model1, perm_spec, normalize=True)\n",
    "# weightn_tr_accs, weightn_tr_losses, _ = get_interpolation(model0, model1, repair=\"trainmode\")\n",
    "\n",
    "# del model0\n",
    "# del model1\n",
    "\n",
    "# config.matching_mode = \"pre_activation\"\n",
    "# reload_models()\n",
    "# collect_statistics([model0, model1], full=True)\n",
    "# match_activations(model0, model1, perm_spec)\n",
    "# pre_act_accs, pre_act_losses, _ = get_interpolation(model0, model1)\n",
    "# pre_act_tr_accs, pre_act_tr_losses, _ = get_interpolation(model0, model1, repair=\"trainmode\")\n",
    "# pre_act_sph_accs, pre_act_sph_losses, _ = get_interpolation(model0, model1, repair=\"sphere\")\n",
    "# pre_act_rep_accs, pre_act_rep_losses, _ = get_interpolation(model0, model1, repair=\"closed\")\n",
    "\n",
    "# del model0\n",
    "# del model1\n",
    "\n",
    "reload_models()\n",
    "match_weights_sinkhorn(model0, model1, perm_spec, normalize=False)\n",
    "# sweight_accs, sweight_losses, _ = get_interpolation(model0, model1)\n",
    "sweight_tr_accs, sweight_tr_losses, _ = get_interpolation(model0, model1, repair=\"trainmode\")\n",
    "\n",
    "del model0\n",
    "del model1\n",
    "\n",
    "# reload_models()\n",
    "# match_weights_sinkhorn(model0, model1, perm_spec, normalize=True)\n",
    "# sweightn_accs, sweightn_losses, _ = get_interpolation(model0, model1)\n",
    "# sweightn_tr_accs, sweightn_tr_losses, _ = get_interpolation(model0, model1, repair=\"trainmode\")\n",
    "\n",
    "# del model0\n",
    "# del model1"
   ]
  },
  {
   "cell_type": "markdown",
   "metadata": {},
   "source": [
    "Direct"
   ]
  },
  {
   "cell_type": "code",
   "execution_count": 18,
   "metadata": {
    "scrolled": false
   },
   "outputs": [
    {
     "name": "stdout",
     "output_type": "stream",
     "text": [
      "Iteration 00: training loss 0.034, validation loss 0.070\n",
      "Iteration 01: training loss 0.023, validation loss 0.083\n",
      "Iteration 02: training loss 0.026, validation loss 0.058\n",
      "Iteration 03: training loss 0.025, validation loss 0.066\n",
      "Iteration 04: training loss 0.026, validation loss 0.060\n",
      "Iteration 05: training loss 0.024, validation loss 0.102\n",
      "Iteration 06: training loss 0.026, validation loss 0.060\n",
      "Iteration 07: training loss 0.026, validation loss 0.064\n",
      "Iteration 08: training loss 0.025, validation loss 0.103\n",
      "Iteration 09: training loss 0.026, validation loss 0.059\n",
      "Iteration 10: training loss 0.027, validation loss 0.104\n",
      "Iteration 11: training loss 0.025, validation loss 0.060\n",
      "Iteration 12: training loss 0.026, validation loss 0.112\n",
      "Iteration 13: training loss 0.027, validation loss 0.115\n",
      "Iteration 14: training loss 0.027, validation loss 0.103\n",
      "Iteration 15: training loss 0.026, validation loss 0.059\n",
      "Iteration 16: training loss 0.025, validation loss 0.066\n",
      "Iteration 17: training loss 0.026, validation loss 0.080\n",
      "Iteration 18: training loss 0.026, validation loss 0.115\n",
      "Iteration 19: training loss 0.026, validation loss 0.060\n"
     ]
    },
    {
     "data": {
      "application/vnd.jupyter.widget-view+json": {
       "model_id": "0c4527c7e6014df5854d3f28f077d4b5",
       "version_major": 2,
       "version_minor": 0
      },
      "text/plain": [
       "Interpolate:   0%|          | 0/25 [00:00<?, ?it/s]"
      ]
     },
     "metadata": {},
     "output_type": "display_data"
    }
   ],
   "source": [
    "device = \"cuda:0\"\n",
    "reload_models()\n",
    "sinkhorn_direct(model0, model1, perm_spec, repair=\"trainmode\")\n",
    "# sweight_accs, sweight_losses, _ = get_interpolation(model0, model1)\n",
    "sdirect_tr_accs, sdirect_tr_losses, _ = get_interpolation(model0, model1, repair=\"trainmode\")"
   ]
  },
  {
   "cell_type": "code",
   "execution_count": 20,
   "metadata": {},
   "outputs": [
    {
     "data": {
      "image/png": "[encoded data removed]",
      "text/plain": [
       "<Figure size 1000x300 with 2 Axes>"
      ]
     },
     "metadata": {},
     "output_type": "display_data"
    }
   ],
   "source": [
    "sns.reset_orig()\n",
    "fig, axes = plt.subplots(1, 2, figsize=(10, 3))\n",
    "axes[0].plot(alphas, accs, label=\"Before permutation\", linestyle=\"--\", color=\"grey\")\n",
    "axes[0].plot(alphas, accs_tr, label=\"Before permutation REPAIR\", linestyle=\":\", color=\"grey\")\n",
    "axes[0].plot(alphas, weight_tr_accs, label=\"Weight matching\")\n",
    "axes[0].plot(alphas, post_act_tr_accs, label=\"Activation matching\")\n",
    "axes[0].plot(alphas, sweight_tr_accs, label=\"Sinkhorn weight matching\")\n",
    "axes[0].plot(alphas, sdirect_tr_accs, label=\"Sinkhorn direct\")\n",
    "axes[0].set_ylim(0, 1)\n",
    "axes[0].set_xlabel(\"Interpolation $\\\\alpha$\")\n",
    "axes[0].set_ylabel(\"Accuracy (top-1)\")\n",
    "# axes[0].legend(bbox_to_anchor=(1, 1), frameon=False)\n",
    "\n",
    "axes[1].plot(alphas, losses, label=\"Before permutation\", linestyle=\"--\", color=\"grey\")\n",
    "axes[1].plot(alphas, losses_tr, label=\"Before permutation REPAIR\", linestyle=\":\", color=\"grey\")\n",
    "axes[1].plot(alphas, weight_tr_losses, label=\"Weight matching\")\n",
    "axes[1].plot(alphas, post_act_tr_losses, label=\"Activation matching\")\n",
    "axes[1].plot(alphas, sweight_tr_losses, label=\"Sinkhorn weight matching\")\n",
    "axes[1].plot(alphas, sdirect_tr_losses, label=\"Sinkhorn direct\")\n",
    "axes[1].set_xlabel(\"Interpolation $\\\\alpha$\")\n",
    "axes[1].set_ylabel(\"Loss\")\n",
    "axes[1].legend(bbox_to_anchor=(1, 1), frameon=False)\n",
    "\n",
    "plt.suptitle(\"MNIST MLP\")\n",
    "plt.savefig(f\"pics/new_{save_name}.pdf\", bbox_inches=\"tight\")\n",
    "plt.show()"
   ]
  },
  {
   "cell_type": "code",
   "execution_count": null,
   "metadata": {},
   "outputs": [],
   "source": []
  }
 ],
 "metadata": {
  "colab": {
   "collapsed_sections": [],
   "name": "farich_read_root_example.ipynb",
   "provenance": []
  },
  "kernelspec": {
   "display_name": "Python (ml)",
   "language": "python",
   "name": "ml"
  },
  "language_info": {
   "codemirror_mode": {
    "name": "ipython",
    "version": 3
   },
   "file_extension": ".py",
   "mimetype": "text/x-python",
   "name": "python",
   "nbconvert_exporter": "python",
   "pygments_lexer": "ipython3",
   "version": "3.9.15"
  }
 },
 "nbformat": 4,
 "nbformat_minor": 1
}
